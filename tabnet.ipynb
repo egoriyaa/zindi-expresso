{
  "nbformat": 4,
  "nbformat_minor": 0,
  "metadata": {
    "colab": {
      "name": "Advanced.ipynb",
      "provenance": [],
      "collapsed_sections": []
    },
    "kernelspec": {
      "name": "python3",
      "display_name": "Python 3"
    },
    "language_info": {
      "name": "python"
    },
    "accelerator": "GPU"
  },
  "cells": [
    {
      "cell_type": "code",
      "metadata": {
        "colab": {
          "base_uri": "https://localhost:8080/"
        },
        "id": "b8-PQZNcgk3r",
        "outputId": "e981937a-183a-4907-8f95-e8565eaa1761"
      },
      "source": [
        "!pip install pytorch-tabnet"
      ],
      "execution_count": null,
      "outputs": [
        {
          "output_type": "stream",
          "name": "stdout",
          "text": [
            "Collecting pytorch-tabnet\n",
            "  Downloading pytorch_tabnet-3.1.1-py3-none-any.whl (39 kB)\n",
            "Requirement already satisfied: torch<2.0,>=1.2 in /usr/local/lib/python3.7/dist-packages (from pytorch-tabnet) (1.9.0+cu102)\n",
            "Requirement already satisfied: scikit_learn>0.21 in /usr/local/lib/python3.7/dist-packages (from pytorch-tabnet) (0.22.2.post1)\n",
            "Requirement already satisfied: numpy<2.0,>=1.17 in /usr/local/lib/python3.7/dist-packages (from pytorch-tabnet) (1.19.5)\n",
            "Requirement already satisfied: tqdm<5.0,>=4.36 in /usr/local/lib/python3.7/dist-packages (from pytorch-tabnet) (4.62.2)\n",
            "Requirement already satisfied: scipy>1.4 in /usr/local/lib/python3.7/dist-packages (from pytorch-tabnet) (1.4.1)\n",
            "Requirement already satisfied: joblib>=0.11 in /usr/local/lib/python3.7/dist-packages (from scikit_learn>0.21->pytorch-tabnet) (1.0.1)\n",
            "Requirement already satisfied: typing-extensions in /usr/local/lib/python3.7/dist-packages (from torch<2.0,>=1.2->pytorch-tabnet) (3.7.4.3)\n",
            "Installing collected packages: pytorch-tabnet\n",
            "Successfully installed pytorch-tabnet-3.1.1\n"
          ]
        }
      ]
    },
    {
      "cell_type": "code",
      "metadata": {
        "colab": {
          "base_uri": "https://localhost:8080/"
        },
        "id": "KkiHD1A5cGcl",
        "outputId": "89581007-0150-4a8b-dc0e-4b0402259c34"
      },
      "source": [
        "import pandas as pd\n",
        "import numpy as np\n",
        "from google.colab import drive\n",
        "from sklearn.preprocessing import LabelEncoder\n",
        "from scipy.special import boxcox1p\n",
        "from sklearn.linear_model import RidgeClassifier, LogisticRegression\n",
        "from sklearn.preprocessing import OneHotEncoder\n",
        "from sklearn.preprocessing import StandardScaler\n",
        "from sklearn.model_selection import train_test_split\n",
        "from sklearn.model_selection import ShuffleSplit, KFold\n",
        "from sklearn.model_selection import cross_val_score\n",
        "from sklearn.metrics import mean_squared_error, roc_auc_score\n",
        "from sklearn.manifold import TSNE\n",
        "from lightgbm import LGBMClassifier\n",
        "from xgboost import XGBClassifier\n",
        "from pytorch_tabnet.tab_model import TabNetClassifier\n",
        "import torch\n",
        "import time\n",
        "import datetime\n",
        "from google.colab import files\n",
        "import matplotlib.pyplot as plt\n",
        "import seaborn as sns\n",
        "from sklearn.preprocessing import PowerTransformer\n",
        "\n",
        "\n",
        "drive.mount('/content/drive')"
      ],
      "execution_count": null,
      "outputs": [
        {
          "output_type": "stream",
          "name": "stdout",
          "text": [
            "Drive already mounted at /content/drive; to attempt to forcibly remount, call drive.mount(\"/content/drive\", force_remount=True).\n"
          ]
        }
      ]
    },
    {
      "cell_type": "code",
      "metadata": {
        "id": "lz-kuCwecIns"
      },
      "source": [
        "train = pd.read_csv(\"/content/drive/My Drive/zindi/Train.csv\")\n",
        "test = pd.read_csv(\"/content/drive/My Drive/zindi/Test.csv\")"
      ],
      "execution_count": null,
      "outputs": []
    },
    {
      "cell_type": "code",
      "metadata": {
        "id": "4xpwHRw3dmKD"
      },
      "source": [
        "#Попробовать с новыми фичами, должно быть хорошо\n",
        "index = train.sample(500000, random_state=42).index\n",
        "\n",
        "X_train, X_testval, y_train, y_testval = train_test_split(train.iloc[index], y.iloc[index], test_size=0.3)\n",
        "\n",
        "X_val, X_test, y_val, y_test = train_test_split(X_testval, y_testval, test_size=0.33)\n",
        "\n",
        "del X_testval, y_testval"
      ],
      "execution_count": null,
      "outputs": []
    },
    {
      "cell_type": "code",
      "metadata": {
        "colab": {
          "base_uri": "https://localhost:8080/"
        },
        "id": "xBIKBQJ5fzMW",
        "outputId": "52f0c271-57ef-4206-9607-f3f2d6bcfbd7"
      },
      "source": [
        "\n",
        "clf = TabNetClassifier(optimizer_fn=torch.optim.Adam,\n",
        "                       optimizer_params=dict(lr=4e-2),\n",
        "                       scheduler_params={\"step_size\": 5,\n",
        "                                         \"gamma\": 0.9},\n",
        "                       scheduler_fn=torch.optim.lr_scheduler.StepLR,\n",
        "                       mask_type='entmax'\n",
        ")"
      ],
      "execution_count": null,
      "outputs": [
        {
          "output_type": "stream",
          "name": "stdout",
          "text": [
            "Device used : cuda\n"
          ]
        }
      ]
    },
    {
      "cell_type": "code",
      "metadata": {
        "colab": {
          "base_uri": "https://localhost:8080/"
        },
        "id": "1q2BcLR9hJRC",
        "outputId": "7261a7ab-7ffd-4564-b2d8-ffa04673d942"
      },
      "source": [
        "clf.fit(\n",
        "    X_train=X_train.values, y_train=y_train.values,\n",
        "    eval_set=[(X_train.values, y_train.values), (X_val.values, y_val.values)],\n",
        "    eval_name=['train', 'valid'],\n",
        "    eval_metric=['auc'],\n",
        "    max_epochs=1000, patience=15,\n",
        "    batch_size=131072, virtual_batch_size=16384,\n",
        "    num_workers=0,\n",
        "    weights=1,\n",
        "    drop_last=False\n",
        ")"
      ],
      "execution_count": null,
      "outputs": [
        {
          "output_type": "stream",
          "name": "stdout",
          "text": [
            "epoch 0  | loss: 0.32643 | train_auc: 0.92982 | valid_auc: 0.93035 |  0:00:19s\n",
            "epoch 1  | loss: 0.32509 | train_auc: 0.92981 | valid_auc: 0.93024 |  0:00:39s\n",
            "epoch 2  | loss: 0.32374 | train_auc: 0.93    | valid_auc: 0.9306  |  0:00:59s\n",
            "epoch 3  | loss: 0.32062 | train_auc: 0.93009 | valid_auc: 0.93075 |  0:01:18s\n",
            "epoch 4  | loss: 0.3216  | train_auc: 0.93021 | valid_auc: 0.93073 |  0:01:38s\n",
            "epoch 5  | loss: 0.32147 | train_auc: 0.93029 | valid_auc: 0.93075 |  0:01:57s\n",
            "epoch 6  | loss: 0.32109 | train_auc: 0.93032 | valid_auc: 0.93081 |  0:02:17s\n",
            "epoch 7  | loss: 0.32024 | train_auc: 0.93034 | valid_auc: 0.93084 |  0:02:36s\n",
            "epoch 8  | loss: 0.3184  | train_auc: 0.93035 | valid_auc: 0.93083 |  0:02:56s\n",
            "epoch 9  | loss: 0.32141 | train_auc: 0.93036 | valid_auc: 0.93084 |  0:03:16s\n",
            "epoch 10 | loss: 0.32107 | train_auc: 0.93047 | valid_auc: 0.93088 |  0:03:35s\n",
            "epoch 11 | loss: 0.3186  | train_auc: 0.93049 | valid_auc: 0.93086 |  0:03:55s\n",
            "epoch 12 | loss: 0.31931 | train_auc: 0.9305  | valid_auc: 0.93088 |  0:04:14s\n",
            "epoch 13 | loss: 0.32127 | train_auc: 0.93054 | valid_auc: 0.93086 |  0:04:34s\n",
            "epoch 14 | loss: 0.32053 | train_auc: 0.9305  | valid_auc: 0.93083 |  0:04:53s\n",
            "epoch 15 | loss: 0.31791 | train_auc: 0.93046 | valid_auc: 0.93077 |  0:05:13s\n",
            "epoch 16 | loss: 0.3206  | train_auc: 0.93054 | valid_auc: 0.93082 |  0:05:32s\n",
            "epoch 17 | loss: 0.31802 | train_auc: 0.93052 | valid_auc: 0.93088 |  0:05:52s\n",
            "epoch 18 | loss: 0.31866 | train_auc: 0.93053 | valid_auc: 0.93087 |  0:06:11s\n",
            "epoch 19 | loss: 0.31856 | train_auc: 0.93063 | valid_auc: 0.93094 |  0:06:31s\n",
            "epoch 20 | loss: 0.31898 | train_auc: 0.93062 | valid_auc: 0.93091 |  0:06:50s\n",
            "epoch 21 | loss: 0.31873 | train_auc: 0.93063 | valid_auc: 0.93083 |  0:07:10s\n",
            "epoch 22 | loss: 0.31883 | train_auc: 0.93068 | valid_auc: 0.93088 |  0:07:29s\n",
            "epoch 23 | loss: 0.32092 | train_auc: 0.93059 | valid_auc: 0.93079 |  0:07:48s\n",
            "epoch 24 | loss: 0.31785 | train_auc: 0.93071 | valid_auc: 0.93092 |  0:08:08s\n",
            "epoch 25 | loss: 0.31923 | train_auc: 0.93063 | valid_auc: 0.93081 |  0:08:28s\n",
            "epoch 26 | loss: 0.31944 | train_auc: 0.93075 | valid_auc: 0.93085 |  0:08:47s\n",
            "epoch 27 | loss: 0.31761 | train_auc: 0.93072 | valid_auc: 0.93081 |  0:09:07s\n",
            "epoch 28 | loss: 0.31955 | train_auc: 0.93081 | valid_auc: 0.93085 |  0:09:26s\n",
            "epoch 29 | loss: 0.31759 | train_auc: 0.93079 | valid_auc: 0.93088 |  0:09:46s\n",
            "epoch 30 | loss: 0.31794 | train_auc: 0.93078 | valid_auc: 0.93087 |  0:10:06s\n",
            "epoch 31 | loss: 0.31821 | train_auc: 0.93077 | valid_auc: 0.93091 |  0:10:26s\n",
            "epoch 32 | loss: 0.3185  | train_auc: 0.93076 | valid_auc: 0.93081 |  0:10:45s\n",
            "epoch 33 | loss: 0.319   | train_auc: 0.93085 | valid_auc: 0.9309  |  0:11:05s\n",
            "epoch 34 | loss: 0.31922 | train_auc: 0.93087 | valid_auc: 0.93083 |  0:11:25s\n",
            "\n",
            "Early stopping occurred at epoch 34 with best_epoch = 19 and best_valid_auc = 0.93094\n",
            "Best weights from best epoch are automatically used!\n"
          ]
        }
      ]
    },
    {
      "cell_type": "code",
      "metadata": {
        "colab": {
          "base_uri": "https://localhost:8080/",
          "height": 283
        },
        "id": "FRTAiPaIiaM9",
        "outputId": "1a513d57-9cc1-4cdb-e7dc-4cd3762c94dc"
      },
      "source": [
        "plt.plot(clf.history['loss'])"
      ],
      "execution_count": null,
      "outputs": [
        {
          "output_type": "execute_result",
          "data": {
            "text/plain": [
              "[<matplotlib.lines.Line2D at 0x7f6272228e90>]"
            ]
          },
          "metadata": {},
          "execution_count": 16
        },
        {
          "output_type": "display_data",
          "data": {
            "image/png": "[encoded data removed]",
            "text/plain": [
              "<Figure size 432x288 with 1 Axes>"
            ]
          },
          "metadata": {
            "needs_background": "light"
          }
        }
      ]
    },
    {
      "cell_type": "code",
      "metadata": {
        "colab": {
          "base_uri": "https://localhost:8080/",
          "height": 283
        },
        "id": "P2zCRjUXiazZ",
        "outputId": "1c68b690-27c8-4e7e-e78b-c7811815e05d"
      },
      "source": [
        "plt.plot(clf.history['train_auc'])\n",
        "plt.plot(clf.history['valid_auc'])"
      ],
      "execution_count": null,
      "outputs": [
        {
          "output_type": "execute_result",
          "data": {
            "text/plain": [
              "[<matplotlib.lines.Line2D at 0x7f6267615750>]"
            ]
          },
          "metadata": {},
          "execution_count": 17
        },
        {
          "output_type": "display_data",
          "data": {
            "image/png": "[encoded data removed]",
            "text/plain": [
              "<Figure size 432x288 with 1 Axes>"
            ]
          },
          "metadata": {
            "needs_background": "light"
          }
        }
      ]
    },
    {
      "cell_type": "code",
      "metadata": {
        "colab": {
          "base_uri": "https://localhost:8080/",
          "height": 283
        },
        "id": "r7bMGPpsidwv",
        "outputId": "34255d77-4422-404b-ada1-c67d9de4ebf7"
      },
      "source": [
        "plt.plot(clf.history['lr'])"
      ],
      "execution_count": null,
      "outputs": [
        {
          "output_type": "execute_result",
          "data": {
            "text/plain": [
              "[<matplotlib.lines.Line2D at 0x7f627a68a590>]"
            ]
          },
          "metadata": {},
          "execution_count": 18
        },
        {
          "output_type": "display_data",
          "data": {
            "image/png": "[encoded data removed]",
            "text/plain": [
              "<Figure size 432x288 with 1 Axes>"
            ]
          },
          "metadata": {
            "needs_background": "light"
          }
        }
      ]
    },
    {
      "cell_type": "code",
      "metadata": {
        "colab": {
          "base_uri": "https://localhost:8080/"
        },
        "id": "dgJjQFx9ip6U",
        "outputId": "8da6cc69-616c-47ce-c406-c9eb078f2f52"
      },
      "source": [
        "preds = clf.predict_proba(X_test.values)\n",
        "test_auc = roc_auc_score(y_score=preds[:,1], y_true=y_test)\n",
        "\n",
        "preds_val = clf.predict_proba(X_val.values)\n",
        "val_auc = roc_auc_score(y_score=preds_val[:,1], y_true=y_val)\n",
        "\n",
        "print(f\"BEST VAL SCORE: {val_auc}\")\n",
        "print(f\"FINAL TEST SCORE: {test_auc}\")"
      ],
      "execution_count": null,
      "outputs": [
        {
          "output_type": "stream",
          "name": "stdout",
          "text": [
            "BEST VAL SCORE: 0.9309383333430148\n",
            "FINAL TEST SCORE: 0.9326998941203849\n"
          ]
        }
      ]
    },
    {
      "cell_type": "code",
      "metadata": {
        "id": "DxSW1XIIzAHb"
      },
      "source": [
        "final_preds = clf.predict_proba(test.values)"
      ],
      "execution_count": null,
      "outputs": []
    },
    {
      "cell_type": "code",
      "metadata": {
        "colab": {
          "base_uri": "https://localhost:8080/",
          "height": 35
        },
        "id": "QwnZs4mCykZJ",
        "outputId": "d0aafd02-e3e8-4137-fb74-b9fe69272e35"
      },
      "source": [
        "submission = pd.read_csv('/content/drive/My Drive/zindi/SampleSubmission.csv')\n",
        "submission[\"CHURN\"] = final_preds[:, 1]\n",
        "submission.to_csv('tabnet_500k.csv', index=False)\n",
        "files.download(\"tabnet_500k.csv\")"
      ],
      "execution_count": null,
      "outputs": [
        {
          "output_type": "display_data",
          "data": {
            "application/javascript": [
              "\n",
              "    async function download(id, filename, size) {\n",
              "      if (!google.colab.kernel.accessAllowed) {\n",
              "        return;\n",
              "      }\n",
              "      const div = document.createElement('div');\n",
              "      const label = document.createElement('label');\n",
              "      label.textContent = `Downloading \"${filename}\": `;\n",
              "      div.appendChild(label);\n",
              "      const progress = document.createElement('progress');\n",
              "      progress.max = size;\n",
              "      div.appendChild(progress);\n",
              "      document.body.appendChild(div);\n",
              "\n",
              "      const buffers = [];\n",
              "      let downloaded = 0;\n",
              "\n",
              "      const channel = await google.colab.kernel.comms.open(id);\n",
              "      // Send a message to notify the kernel that we're ready.\n",
              "      channel.send({})\n",
              "\n",
              "      for await (const message of channel.messages) {\n",
              "        // Send a message to notify the kernel that we're ready.\n",
              "        channel.send({})\n",
              "        if (message.buffers) {\n",
              "          for (const buffer of message.buffers) {\n",
              "            buffers.push(buffer);\n",
              "            downloaded += buffer.byteLength;\n",
              "            progress.value = downloaded;\n",
              "          }\n",
              "        }\n",
              "      }\n",
              "      const blob = new Blob(buffers, {type: 'application/binary'});\n",
              "      const a = document.createElement('a');\n",
              "      a.href = window.URL.createObjectURL(blob);\n",
              "      a.download = filename;\n",
              "      div.appendChild(a);\n",
              "      a.click();\n",
              "      div.remove();\n",
              "    }\n",
              "  "
            ],
            "text/plain": [
              "<IPython.core.display.Javascript object>"
            ]
          },
          "metadata": {}
        },
        {
          "output_type": "display_data",
          "data": {
            "application/javascript": [
              "download(\"download_9ca514d3-ba21-4ea1-bc82-d36834c6e634\", \"tabnet_500k.csv\", 19924611)"
            ],
            "text/plain": [
              "<IPython.core.display.Javascript object>"
            ]
          },
          "metadata": {}
        }
      ]
    }
  ]
}